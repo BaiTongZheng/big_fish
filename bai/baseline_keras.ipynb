{
 "cells": [
  {
   "cell_type": "code",
   "execution_count": 2,
   "metadata": {},
   "outputs": [
    {
     "name": "stderr",
     "output_type": "stream",
     "text": [
      "Using TensorFlow backend.\n"
     ]
    }
   ],
   "source": [
    "import gzip\n",
    "# Read or generate p2h, a dictionary of image name to image id (picture to hash)\n",
    "import pickle\n",
    "import platform\n",
    "import random\n",
    "# Suppress annoying stderr output when importing keras.\n",
    "import sys\n",
    "from lapjv import lapjv\n",
    "from math import sqrt\n",
    "# Determine the size of each image\n",
    "from os.path import isfile\n",
    "\n",
    "import keras\n",
    "import matplotlib.pyplot as plt\n",
    "import numpy as np\n",
    "import pandas as pd\n",
    "from PIL import Image as pil_image\n",
    "from imagehash import phash\n",
    "from keras import backend as K\n",
    "from keras import regularizers\n",
    "from keras.engine.topology import Input\n",
    "from keras.layers import Activation, Add, BatchNormalization, Concatenate, Conv2D, Dense, Flatten, GlobalMaxPooling2D, \\\n",
    "    Lambda, MaxPooling2D, Reshape\n",
    "from keras.models import Model\n",
    "from keras.optimizers import Adam\n",
    "from keras.preprocessing.image import img_to_array\n",
    "from keras.utils import Sequence\n",
    "from pandas import read_csv\n",
    "from scipy.ndimage import affine_transform\n",
    "from tqdm import tqdm_notebook as tqdm\n",
    "import time"
   ]
  },
  {
   "cell_type": "code",
   "execution_count": 3,
   "metadata": {},
   "outputs": [],
   "source": [
    "TRAIN_DF = '../Data/train.csv'\n",
    "SUB_Df = '../Data/sample_submission.csv'\n",
    "TRAIN = '../Data/train/'\n",
    "TEST = '../Data/test/'\n",
    "P2H = '../Data/p2h.pickle'\n",
    "P2SIZE = '../Data/p2size.pickle'\n",
    "BB_DF = \"../Data/bounding_boxes.csv\"\n",
    "tagged = dict([(p, w) for _, p, w in read_csv(TRAIN_DF).to_records()])\n",
    "submit = [p for _, p, _ in read_csv(SUB_Df).to_records()]\n",
    "join = list(tagged.keys()) + submit"
   ]
  },
  {
   "cell_type": "code",
   "execution_count": 4,
   "metadata": {},
   "outputs": [],
   "source": [
    "def expand_path(p):\n",
    "    if isfile(TRAIN + p):\n",
    "        return TRAIN + p\n",
    "    if isfile(TEST + p):\n",
    "        return TEST + p\n",
    "    return p"
   ]
  },
  {
   "cell_type": "code",
   "execution_count": 5,
   "metadata": {},
   "outputs": [
    {
     "name": "stdout",
     "output_type": "stream",
     "text": [
      "P2SIZE exists.\n"
     ]
    }
   ],
   "source": [
    "if isfile(P2SIZE):\n",
    "    print(\"P2SIZE exists.\")\n",
    "    with open(P2SIZE, 'rb') as f:\n",
    "        p2size = pickle.load(f)\n",
    "else:\n",
    "    p2size = {}\n",
    "    for p in tqdm(join):\n",
    "        size = pil_image.open(expand_path(p)).size\n",
    "        p2size[p] = size\n"
   ]
  },
  {
   "cell_type": "code",
   "execution_count": 6,
   "metadata": {},
   "outputs": [
    {
     "name": "stdout",
     "output_type": "stream",
     "text": [
      "P2H exists.\n"
     ]
    }
   ],
   "source": [
    "def match(h1, h2):\n",
    "    for p1 in h2ps[h1]:\n",
    "        for p2 in h2ps[h2]:\n",
    "            i1 = pil_image.open(expand_path(p1))\n",
    "            i2 = pil_image.open(expand_path(p2))\n",
    "            if i1.mode != i2.mode or i1.size != i2.size: return False\n",
    "            a1 = np.array(i1)\n",
    "            a1 = a1 - a1.mean()\n",
    "            a1 = a1 / sqrt((a1 ** 2).mean())\n",
    "            a2 = np.array(i2)\n",
    "            a2 = a2 - a2.mean()\n",
    "            a2 = a2 / sqrt((a2 ** 2).mean())\n",
    "            a = ((a1 - a2) ** 2).mean()\n",
    "            if a > 0.1: return False\n",
    "    return True\n",
    "\n",
    "\n",
    "if isfile(P2H):\n",
    "    print(\"P2H exists.\")\n",
    "    with open(P2H, 'rb') as f:\n",
    "        p2h = pickle.load(f)\n",
    "else:\n",
    "    # Compute phash for each image in the training and test set.\n",
    "    p2h = {}\n",
    "    for p in tqdm(join):\n",
    "        img = pil_image.open(expand_path(p))\n",
    "        h = phash(img)\n",
    "        p2h[p] = h\n",
    "\n",
    "    # Find all images associated with a given phash value.\n",
    "    h2ps = {}\n",
    "    for p, h in p2h.items():\n",
    "        if h not in h2ps: h2ps[h] = []\n",
    "        if p not in h2ps[h]: h2ps[h].append(p)\n",
    "\n",
    "    # Find all distinct phash values\n",
    "    hs = list(h2ps.keys())\n",
    "\n",
    "    # If the images are close enough, associate the two phash values (this is the slow part: n^2 algorithm)\n",
    "    h2h = {}\n",
    "    for i, h1 in enumerate(tqdm(hs)):\n",
    "        for h2 in hs[:i]:\n",
    "            if h1 - h2 <= 6 and match(h1, h2):\n",
    "                s1 = str(h1)\n",
    "                s2 = str(h2)\n",
    "                if s1 < s2: s1, s2 = s2, s1\n",
    "                h2h[s1] = s2\n",
    "\n",
    "    # Group together images with equivalent phash, and replace by string format of phash (faster and more readable)\n",
    "    for p, h in p2h.items():\n",
    "        h = str(h)\n",
    "        if h in h2h: h = h2h[h]\n",
    "        p2h[p] = h\n",
    "#     with open(P2H, 'wb') as f:\n",
    "#         pickle.dump(p2h, f)\n",
    "# For each image id, determine the list of pictures\n",
    "h2ps = {}\n",
    "for p, h in p2h.items():\n",
    "    if h not in h2ps: h2ps[h] = []\n",
    "    if p not in h2ps[h]: h2ps[h].append(p)\n"
   ]
  },
  {
   "cell_type": "code",
   "execution_count": 7,
   "metadata": {},
   "outputs": [],
   "source": [
    "def show_whale(imgs, per_row=2):\n",
    "    n = len(imgs)\n",
    "    rows = (n + per_row - 1) // per_row\n",
    "    cols = min(per_row, n)\n",
    "    fig, axes = plt.subplots(rows, cols, figsize=(24 // per_row * cols, 24 // per_row * rows))\n",
    "    for ax in axes.flatten(): ax.axis('off')\n",
    "    for i, (img, ax) in enumerate(zip(imgs, axes.flatten())): ax.imshow(img.convert('RGB'))\n",
    "        \n",
    "\n",
    "def read_raw_image(p):\n",
    "    img = pil_image.open(expand_path(p))\n",
    "    return img"
   ]
  },
  {
   "cell_type": "code",
   "execution_count": 8,
   "metadata": {},
   "outputs": [
    {
     "data": {
      "text/plain": [
       "(33317,\n",
       " [('d26698c3271c757c', '0000e88ab.jpg'),\n",
       "  ('ba8cc231ad489b77', '0001f9222.jpg'),\n",
       "  ('bbcad234a52d0f0b', '00029d126.jpg'),\n",
       "  ('c09ae7dc09f33a29', '00050a15a.jpg'),\n",
       "  ('d02f65ba9f74a08a', '0005c1ef8.jpg')])"
      ]
     },
     "execution_count": 8,
     "metadata": {},
     "output_type": "execute_result"
    }
   ],
   "source": [
    "# For each images id, select the prefered image\n",
    "def prefer(ps):\n",
    "    if len(ps) == 1: return ps[0]\n",
    "    best_p = ps[0]\n",
    "    best_s = p2size[best_p]\n",
    "    for i in range(1, len(ps)):\n",
    "        p = ps[i]\n",
    "        s = p2size[p]\n",
    "        if s[0] * s[1] > best_s[0] * best_s[1]:  # Select the image with highest resolution\n",
    "            best_p = p\n",
    "            best_s = s\n",
    "    return best_p\n",
    "\n",
    "h2p = {}\n",
    "for h, ps in h2ps.items():\n",
    "    h2p[h] = prefer(ps)\n",
    "len(h2p), list(h2p.items())[:5]"
   ]
  },
  {
   "cell_type": "code",
   "execution_count": 9,
   "metadata": {},
   "outputs": [],
   "source": [
    "# Read the bounding box data from the bounding box kernel (see reference above)\n",
    "p2bb = pd.read_csv(BB_DF).set_index(\"Image\")\n",
    "\n",
    "old_stderr = sys.stderr\n",
    "sys.stderr = open('/dev/null' if platform.system() != 'Windows' else 'nul', 'w')\n",
    "\n",
    "sys.stderr = old_stderr\n",
    "\n",
    "img_shape = (384, 384, 1)  # The image shape used by the model\n",
    "anisotropy = 2.15  # The horizontal compression ratio\n",
    "crop_margin = 0.05  # The margin added around the bounding box to compensate for bounding box inaccuracy"
   ]
  },
  {
   "cell_type": "code",
   "execution_count": 10,
   "metadata": {},
   "outputs": [],
   "source": [
    "def build_transform(rotation, shear, height_zoom, width_zoom, height_shift, width_shift):\n",
    "    \"\"\"\n",
    "    Build a transformation matrix with the specified characteristics.\n",
    "    \"\"\"\n",
    "    rotation = np.deg2rad(rotation)\n",
    "    shear = np.deg2rad(shear)\n",
    "    rotation_matrix = np.array(\n",
    "        [[np.cos(rotation), np.sin(rotation), 0], [-np.sin(rotation), np.cos(rotation), 0], [0, 0, 1]])\n",
    "    shift_matrix = np.array([[1, 0, height_shift], [0, 1, width_shift], [0, 0, 1]])\n",
    "    shear_matrix = np.array([[1, np.sin(shear), 0], [0, np.cos(shear), 0], [0, 0, 1]])\n",
    "    zoom_matrix = np.array([[1.0 / height_zoom, 0, 0], [0, 1.0 / width_zoom, 0], [0, 0, 1]])\n",
    "    shift_matrix = np.array([[1, 0, -height_shift], [0, 1, -width_shift], [0, 0, 1]])\n",
    "    return np.dot(np.dot(rotation_matrix, shear_matrix), np.dot(zoom_matrix, shift_matrix))"
   ]
  },
  {
   "cell_type": "code",
   "execution_count": 11,
   "metadata": {},
   "outputs": [],
   "source": [
    "def read_cropped_image(p, augment):\n",
    "    \"\"\"\n",
    "    @param p : the name of the picture to read\n",
    "    @param augment: True/False if data augmentation should be performed\n",
    "    @return a numpy array with the transformed image\n",
    "    \"\"\"\n",
    "    # If an image id was given, convert to filename\n",
    "    if p in h2p:\n",
    "        p = h2p[p]\n",
    "    size_x, size_y = p2size[p]\n",
    "\n",
    "    # Determine the region of the original image we want to capture based on the bounding box.\n",
    "    row = p2bb.loc[p]\n",
    "    x0, y0, x1, y1 = row['x0'], row['y0'], row['x1'], row['y1']\n",
    "    dx = x1 - x0\n",
    "    dy = y1 - y0\n",
    "    x0 -= dx * crop_margin\n",
    "    x1 += dx * crop_margin + 1\n",
    "    y0 -= dy * crop_margin\n",
    "    y1 += dy * crop_margin + 1\n",
    "    if x0 < 0:\n",
    "        x0 = 0\n",
    "    if x1 > size_x:\n",
    "        x1 = size_x\n",
    "    if y0 < 0:\n",
    "        y0 = 0\n",
    "    if y1 > size_y:\n",
    "        y1 = size_y\n",
    "    dx = x1 - x0\n",
    "    dy = y1 - y0\n",
    "    if dx > dy * anisotropy:\n",
    "        dy = 0.5 * (dx / anisotropy - dy)\n",
    "        y0 -= dy\n",
    "        y1 += dy\n",
    "    else:\n",
    "        dx = 0.5 * (dy * anisotropy - dx)\n",
    "        x0 -= dx\n",
    "        x1 += dx\n",
    "\n",
    "    # Generate the transformation matrix\n",
    "    trans = np.array([[1, 0, -0.5 * img_shape[0]], [0, 1, -0.5 * img_shape[1]], [0, 0, 1]])\n",
    "    trans = np.dot(np.array([[(y1 - y0) / img_shape[0], 0, 0], [0, (x1 - x0) / img_shape[1], 0], [0, 0, 1]]), trans)\n",
    "    if augment:\n",
    "        trans = np.dot(build_transform(\n",
    "            random.uniform(-5, 5),\n",
    "            random.uniform(-5, 5),\n",
    "            random.uniform(0.8, 1.0),\n",
    "            random.uniform(0.8, 1.0),\n",
    "            random.uniform(-0.05 * (y1 - y0), 0.05 * (y1 - y0)),\n",
    "            random.uniform(-0.05 * (x1 - x0), 0.05 * (x1 - x0))\n",
    "        ), trans)\n",
    "    trans = np.dot(np.array([[1, 0, 0.5 * (y1 + y0)], [0, 1, 0.5 * (x1 + x0)], [0, 0, 1]]), trans)\n",
    "\n",
    "    # Read the image, transform to black and white and comvert to numpy array\n",
    "    img = read_raw_image(p).convert('L')\n",
    "    img = img_to_array(img)\n",
    "\n",
    "    # Apply affine transformation\n",
    "    matrix = trans[:2, :2]\n",
    "    offset = trans[:2, 2]\n",
    "    img = img.reshape(img.shape[:-1])\n",
    "    img = affine_transform(img, matrix, offset, output_shape=img_shape[:-1], order=1, mode='constant',\n",
    "                           cval=np.average(img))\n",
    "    img = img.reshape(img_shape)\n",
    "\n",
    "    # Normalize to zero mean and unit variance\n",
    "    img -= np.mean(img, keepdims=True)\n",
    "    img /= np.std(img, keepdims=True) + K.epsilon()\n",
    "    return img\n",
    "\n",
    "def read_for_training(p):\n",
    "    \"\"\"\n",
    "    Read and preprocess an image with data augmentation (random transform).\n",
    "    \"\"\"\n",
    "    return read_cropped_image(p, True)\n",
    "\n",
    "\n",
    "def read_for_validation(p):\n",
    "    \"\"\"\n",
    "    Read and preprocess an image without data augmentation (use for testing).\n",
    "    \"\"\"\n",
    "    return read_cropped_image(p, False)\n",
    "\n",
    "\n",
    "p = list(tagged.keys())[312]"
   ]
  },
  {
   "cell_type": "code",
   "execution_count": 12,
   "metadata": {},
   "outputs": [],
   "source": [
    "def subblock(x, filter, **kwargs):\n",
    "    x = BatchNormalization()(x)\n",
    "    y = x\n",
    "    y = Conv2D(filter, (1, 1), activation='relu', **kwargs)(y)  # Reduce the number of features to 'filter'\n",
    "    y = BatchNormalization()(y)\n",
    "    y = Conv2D(filter, (3, 3), activation='relu', **kwargs)(y)  # Extend the feature field\n",
    "    y = BatchNormalization()(y)\n",
    "    y = Conv2D(K.int_shape(x)[-1], (1, 1), **kwargs)(y)  # no activation # Restore the number of original features\n",
    "    y = Add()([x, y])  # Add the bypass connection\n",
    "    y = Activation('relu')(y)\n",
    "    return y\n",
    "\n",
    "\n",
    "def build_model(lr, l2, activation='sigmoid'):\n",
    "    ##############\n",
    "    # BRANCH MODEL\n",
    "    ##############\n",
    "    regul = regularizers.l2(l2)\n",
    "    optim = Adam(lr=lr)\n",
    "    kwargs = {'padding': 'same', 'kernel_regularizer': regul}\n",
    "\n",
    "    inp = Input(shape=img_shape)  # 384x384x1\n",
    "    x = Conv2D(64, (9, 9), strides=2, activation='relu', **kwargs)(inp)\n",
    "\n",
    "    x = MaxPooling2D((2, 2), strides=(2, 2))(x)  # 96x96x64\n",
    "    for _ in range(2):\n",
    "        x = BatchNormalization()(x)\n",
    "        x = Conv2D(64, (3, 3), activation='relu', **kwargs)(x)\n",
    "\n",
    "    x = MaxPooling2D((2, 2), strides=(2, 2))(x)  # 48x48x64\n",
    "    x = BatchNormalization()(x)\n",
    "    x = Conv2D(128, (1, 1), activation='relu', **kwargs)(x)  # 48x48x128\n",
    "    for _ in range(4):\n",
    "        x = subblock(x, 64, **kwargs)\n",
    "\n",
    "    x = MaxPooling2D((2, 2), strides=(2, 2))(x)  # 24x24x128\n",
    "    x = BatchNormalization()(x)\n",
    "    x = Conv2D(256, (1, 1), activation='relu', **kwargs)(x)  # 24x24x256\n",
    "    for _ in range(4):\n",
    "        x = subblock(x, 64, **kwargs)\n",
    "\n",
    "    x = MaxPooling2D((2, 2), strides=(2, 2))(x)  # 12x12x256\n",
    "    x = BatchNormalization()(x)\n",
    "    x = Conv2D(384, (1, 1), activation='relu', **kwargs)(x)  # 12x12x384\n",
    "    for _ in range(4):\n",
    "        x = subblock(x, 96, **kwargs)\n",
    "\n",
    "    x = MaxPooling2D((2, 2), strides=(2, 2))(x)  # 6x6x384\n",
    "    x = BatchNormalization()(x)\n",
    "    x = Conv2D(512, (1, 1), activation='relu', **kwargs)(x)  # 6x6x512\n",
    "    for _ in range(4):\n",
    "        x = subblock(x, 128, **kwargs)\n",
    "\n",
    "    x = GlobalMaxPooling2D()(x)  # 512\n",
    "    branch_model = Model(inp, x)\n",
    "\n",
    "    ############\n",
    "    # HEAD MODEL\n",
    "    ############\n",
    "    mid = 32\n",
    "    xa_inp = Input(shape=branch_model.output_shape[1:])\n",
    "    xb_inp = Input(shape=branch_model.output_shape[1:])\n",
    "    x1 = Lambda(lambda x: x[0] * x[1])([xa_inp, xb_inp])\n",
    "    x2 = Lambda(lambda x: x[0] + x[1])([xa_inp, xb_inp])\n",
    "    x3 = Lambda(lambda x: K.abs(x[0] - x[1]))([xa_inp, xb_inp])\n",
    "    x4 = Lambda(lambda x: K.square(x))(x3)\n",
    "    x = Concatenate()([x1, x2, x3, x4])\n",
    "    x = Reshape((4, branch_model.output_shape[1], 1), name='reshape1')(x)\n",
    "\n",
    "    # Per feature NN with shared weight is implemented using CONV2D with appropriate stride.\n",
    "    x = Conv2D(mid, (4, 1), activation='relu', padding='valid')(x)\n",
    "    x = Reshape((branch_model.output_shape[1], mid, 1))(x)\n",
    "    x = Conv2D(1, (1, mid), activation='linear', padding='valid')(x)\n",
    "    x = Flatten(name='flatten')(x)\n",
    "\n",
    "    # Weighted sum implemented as a Dense layer.\n",
    "    x = Dense(1, use_bias=True, activation=activation, name='weighted-average')(x)\n",
    "    head_model = Model([xa_inp, xb_inp], x, name='head')\n",
    "\n",
    "    ########################\n",
    "    # SIAMESE NEURAL NETWORK\n",
    "    ########################\n",
    "    # Complete model is constructed by calling the branch model on each input image,\n",
    "    # and then the head model on the resulting 512-vectors.\n",
    "    img_a = Input(shape=img_shape)\n",
    "    img_b = Input(shape=img_shape)\n",
    "    xa = branch_model(img_a)\n",
    "    xb = branch_model(img_b)\n",
    "    x = head_model([xa, xb])\n",
    "    model = Model([img_a, img_b], x)\n",
    "    model.compile(optim, loss='binary_crossentropy', metrics=['binary_crossentropy', 'acc'])\n",
    "    return model, branch_model, head_model\n",
    "\n",
    "\n",
    "model, branch_model, head_model = build_model(64e-5, 0)"
   ]
  },
  {
   "cell_type": "code",
   "execution_count": 13,
   "metadata": {},
   "outputs": [],
   "source": [
    "h2ws = {}\n",
    "new_whale = 'new_whale'\n",
    "for p, w in tagged.items():\n",
    "    if w != new_whale:  # Use only identified whales\n",
    "        h = p2h[p]\n",
    "        if h not in h2ws: h2ws[h] = []\n",
    "        if w not in h2ws[h]: h2ws[h].append(w)\n",
    "for h, ws in h2ws.items():\n",
    "    if len(ws) > 1:\n",
    "        h2ws[h] = sorted(ws)\n",
    "\n",
    "# For each whale, find the unambiguous images ids.\n",
    "w2hs = {}\n",
    "for h, ws in h2ws.items():\n",
    "    if len(ws) == 1:  # Use only unambiguous pictures\n",
    "        w = ws[0]\n",
    "        if w not in w2hs: w2hs[w] = []\n",
    "        if h not in w2hs[w]: w2hs[w].append(h)\n",
    "for w, hs in w2hs.items():\n",
    "    if len(hs) > 1:\n",
    "        w2hs[w] = sorted(hs)"
   ]
  },
  {
   "cell_type": "code",
   "execution_count": 14,
   "metadata": {},
   "outputs": [],
   "source": [
    "train = []  # A list of training image ids\n",
    "for hs in w2hs.values():\n",
    "    if len(hs) > 1:\n",
    "        train += hs\n",
    "random.shuffle(train)\n",
    "train_set = set(train)\n",
    "\n",
    "w2ts = {}  # Associate the image ids from train to each whale id.\n",
    "for w, hs in w2hs.items():\n",
    "    for h in hs:\n",
    "        if h in train_set:\n",
    "            if w not in w2ts:\n",
    "                w2ts[w] = []\n",
    "            if h not in w2ts[w]:\n",
    "                w2ts[w].append(h)\n",
    "for w, ts in w2ts.items():\n",
    "    w2ts[w] = np.array(ts)\n",
    "\n",
    "t2i = {}  # The position in train of each training image id\n",
    "for i, t in enumerate(train):\n",
    "    t2i[t] = i"
   ]
  },
  {
   "cell_type": "code",
   "execution_count": 20,
   "metadata": {},
   "outputs": [],
   "source": [
    "class TrainingData(Sequence):\n",
    "    def __init__(self, score, steps=1000, batch_size=32):\n",
    "        \"\"\"\n",
    "        @param score the cost matrix for the picture matching\n",
    "        @param steps the number of epoch we are planning with this score matrix\n",
    "        \"\"\"\n",
    "        super(TrainingData, self).__init__()\n",
    "        self.score = -score  # Maximizing the score is the same as minimuzing -score.\n",
    "        self.steps = steps\n",
    "        self.batch_size = batch_size\n",
    "        for ts in w2ts.values():\n",
    "            idxs = [t2i[t] for t in ts]\n",
    "            for i in idxs:\n",
    "                for j in idxs:\n",
    "                    self.score[i, j] = 10000.0  # Set a large value for matching whales -- eliminates this potential pairing\n",
    "        self.on_epoch_end()\n",
    "\n",
    "    def __getitem__(self, index):\n",
    "        start = self.batch_size * index\n",
    "        end = min(start + self.batch_size, len(self.match) + len(self.unmatch))\n",
    "        size = end - start\n",
    "        assert size > 0\n",
    "        a = np.zeros((size,) + img_shape, dtype=K.floatx())\n",
    "        b = np.zeros((size,) + img_shape, dtype=K.floatx())\n",
    "        c = np.zeros((size, 1), dtype=K.floatx())\n",
    "        j = start // 2\n",
    "        for i in range(0, size, 2):\n",
    "            a[i, :, :, :] = read_for_training(self.match[j][0])\n",
    "            b[i, :, :, :] = read_for_training(self.match[j][1])\n",
    "            c[i, 0] = 1  # This is a match\n",
    "            a[i + 1, :, :, :] = read_for_training(self.unmatch[j][0])\n",
    "            b[i + 1, :, :, :] = read_for_training(self.unmatch[j][1])\n",
    "            c[i + 1, 0] = 0  # Different whales\n",
    "            j += 1\n",
    "        return [a, b], c\n",
    "\n",
    "    def on_epoch_end(self):\n",
    "        if self.steps <= 0: return  # Skip this on the last epoch.\n",
    "        self.steps -= 1\n",
    "        self.match = []\n",
    "        self.unmatch = []\n",
    "        x,_,_ = lapjv(self.score)  # Solve the linear assignment problem\n",
    "        y = np.arange(len(x), dtype=np.int32)\n",
    "\n",
    "        # Compute a derangement for matching whales\n",
    "        for ts in w2ts.values():\n",
    "            d = ts.copy()\n",
    "            while True:\n",
    "                random.shuffle(d)\n",
    "                if not np.any(ts == d): break\n",
    "            for ab in zip(ts, d): self.match.append(ab)\n",
    "\n",
    "        # Construct unmatched whale pairs from the LAP solution.\n",
    "        for i, j in zip(x, y):\n",
    "            if i == j:\n",
    "                print(self.score)\n",
    "                print(x)\n",
    "                print(y)\n",
    "                print(i, j)\n",
    "            assert i != j\n",
    "            self.unmatch.append((train[i], train[j]))\n",
    "\n",
    "        # Force a different choice for an eventual next epoch.\n",
    "        self.score[x, y] = 10000.0\n",
    "        self.score[y, x] = 10000.0\n",
    "        random.shuffle(self.match)\n",
    "        random.shuffle(self.unmatch)\n",
    "#         print(len(self.match), len(train), len(self.unmatch), len(train))\n",
    "        assert len(self.match) == len(train) and len(self.unmatch) == len(train)\n",
    "\n",
    "    def __len__(self):\n",
    "        return (len(self.match) + len(self.unmatch) + self.batch_size - 1) // self.batch_size\n",
    "\n",
    "\n",
    "# Test on a batch of 32 with random costs.\n",
    "score = np.random.random_sample(size=(len(train), len(train)))\n",
    "data = TrainingData(score)\n",
    "(a, b), c = data[0]"
   ]
  },
  {
   "cell_type": "code",
   "execution_count": 21,
   "metadata": {},
   "outputs": [],
   "source": [
    "# A Keras generator to evaluate only the BRANCH MODEL\n",
    "class FeatureGen(Sequence):\n",
    "    def __init__(self, data, batch_size=64, verbose=1):\n",
    "        super(FeatureGen, self).__init__()\n",
    "        self.data = data\n",
    "        self.batch_size = batch_size\n",
    "        self.verbose = verbose\n",
    "        if self.verbose > 0: self.progress = tqdm(total=len(self), desc='Features')\n",
    "\n",
    "    def __getitem__(self, index):\n",
    "        start = self.batch_size * index\n",
    "        size = min(len(self.data) - start, self.batch_size)\n",
    "        a = np.zeros((size,) + img_shape, dtype=K.floatx())\n",
    "        for i in range(size): a[i, :, :, :] = read_for_validation(self.data[start + i])\n",
    "        if self.verbose > 0:\n",
    "            self.progress.update()\n",
    "            if self.progress.n >= len(self): self.progress.close()\n",
    "        return a\n",
    "\n",
    "    def __len__(self):\n",
    "        return (len(self.data) + self.batch_size - 1) // self.batch_size\n",
    "\n",
    "\n",
    "class ScoreGen(Sequence):\n",
    "    def __init__(self, x, y=None, batch_size=2048, verbose=1):\n",
    "        super(ScoreGen, self).__init__()\n",
    "        self.x = x\n",
    "        self.y = y\n",
    "        self.batch_size = batch_size\n",
    "        self.verbose = verbose\n",
    "        if y is None:\n",
    "            self.y = self.x\n",
    "            self.ix, self.iy = np.triu_indices(x.shape[0], 1)\n",
    "        else:\n",
    "            self.iy, self.ix = np.indices((y.shape[0], x.shape[0]))\n",
    "            self.ix = self.ix.reshape((self.ix.size,))\n",
    "            self.iy = self.iy.reshape((self.iy.size,))\n",
    "        self.subbatch = (len(self.x) + self.batch_size - 1) // self.batch_size\n",
    "        if self.verbose > 0:\n",
    "            self.progress = tqdm(total=len(self), desc='Scores')\n",
    "\n",
    "    def __getitem__(self, index):\n",
    "        start = index * self.batch_size\n",
    "        end = min(start + self.batch_size, len(self.ix))\n",
    "        a = self.y[self.iy[start:end], :]\n",
    "        b = self.x[self.ix[start:end], :]\n",
    "        if self.verbose > 0:\n",
    "            self.progress.update()\n",
    "            if self.progress.n >= len(self): self.progress.close()\n",
    "        return [a, b]\n",
    "\n",
    "    def __len__(self):\n",
    "        return (len(self.ix) + self.batch_size - 1) // self.batch_size"
   ]
  },
  {
   "cell_type": "code",
   "execution_count": 22,
   "metadata": {},
   "outputs": [],
   "source": [
    "def set_lr(model, lr):\n",
    "    K.set_value(model.optimizer.lr, float(lr))\n",
    "\n",
    "\n",
    "def get_lr(model):\n",
    "    return K.get_value(model.optimizer.lr)\n",
    "\n",
    "\n",
    "def score_reshape(score, x, y=None):\n",
    "    \"\"\"\n",
    "    Tranformed the packed matrix 'score' into a square matrix.\n",
    "    @param score the packed matrix\n",
    "    @param x the first image feature tensor\n",
    "    @param y the second image feature tensor if different from x\n",
    "    @result the square matrix\n",
    "    \"\"\"\n",
    "    if y is None:\n",
    "        # When y is None, score is a packed upper triangular matrix.\n",
    "        # Unpack, and transpose to form the symmetrical lower triangular matrix.\n",
    "        m = np.zeros((x.shape[0], x.shape[0]), dtype=K.floatx())\n",
    "        m[np.triu_indices(x.shape[0], 1)] = score.squeeze()\n",
    "        m += m.transpose()\n",
    "    else:\n",
    "        m = np.zeros((y.shape[0], x.shape[0]), dtype=K.floatx())\n",
    "        iy, ix = np.indices((y.shape[0], x.shape[0]))\n",
    "        ix = ix.reshape((ix.size,))\n",
    "        iy = iy.reshape((iy.size,))\n",
    "        m[iy, ix] = score.squeeze()\n",
    "    return m\n",
    "\n",
    "\n",
    "def compute_score(verbose=1):\n",
    "    \"\"\"\n",
    "    Compute the score matrix by scoring every pictures from the training set against every other picture O(n^2).\n",
    "    \"\"\"\n",
    "    features = branch_model.predict_generator(FeatureGen(train, verbose=verbose), max_queue_size=12, workers=6,\n",
    "                                              verbose=0)\n",
    "    score = head_model.predict_generator(ScoreGen(features, verbose=verbose), max_queue_size=12, workers=6, verbose=0)\n",
    "    score = score_reshape(score, features)\n",
    "    return features, score\n",
    "\n",
    "\n",
    "def make_steps(step, ampl):\n",
    "    \"\"\"\n",
    "    Perform training epochs\n",
    "    @param step Number of epochs to perform\n",
    "    @param ampl the K, the randomized component of the score matrix.\n",
    "    \"\"\"\n",
    "    global w2ts, t2i, steps, features, score, histories\n",
    "\n",
    "    # shuffle the training pictures\n",
    "    random.shuffle(train)\n",
    "\n",
    "    # Map whale id to the list of associated training picture hash value\n",
    "    w2ts = {}\n",
    "    for w, hs in w2hs.items():\n",
    "        for h in hs:\n",
    "            if h in train_set:\n",
    "                if w not in w2ts: w2ts[w] = []\n",
    "                if h not in w2ts[w]: w2ts[w].append(h)\n",
    "    for w, ts in w2ts.items(): w2ts[w] = np.array(ts)\n",
    "\n",
    "    # Map training picture hash value to index in 'train' array    \n",
    "    t2i = {}\n",
    "    for i, t in enumerate(train): t2i[t] = i\n",
    "\n",
    "    # Compute the match score for each picture pair\n",
    "    features, score = compute_score()\n",
    "\n",
    "    # Train the model for 'step' epochs\n",
    "    history = model.fit_generator(\n",
    "        TrainingData(score + ampl * np.random.random_sample(size=score.shape), steps=step, batch_size=32),\n",
    "        initial_epoch=steps, epochs=steps + step, max_queue_size=12, workers=6, verbose=1).history\n",
    "    steps += step\n",
    "\n",
    "    # Collect history data\n",
    "    history['epochs'] = steps\n",
    "    history['ms'] = np.mean(score)\n",
    "    history['lr'] = get_lr(model)\n",
    "    print(history['epochs'], history['lr'], history['ms'])\n",
    "    histories.append(history)"
   ]
  },
  {
   "cell_type": "code",
   "execution_count": 29,
   "metadata": {},
   "outputs": [
    {
     "data": {
      "application/vnd.jupyter.widget-view+json": {
       "model_id": "d941c81f2b4a4c2698221f771fa926b4",
       "version_major": 2,
       "version_minor": 0
      },
      "text/plain": [
       "HBox(children=(IntProgress(value=0, description='Features', max=213, style=ProgressStyle(description_width='in…"
      ]
     },
     "metadata": {},
     "output_type": "display_data"
    },
    {
     "data": {
      "application/vnd.jupyter.widget-view+json": {
       "model_id": "4edf933ac82e436691658dd26fd6f1d1",
       "version_major": 2,
       "version_minor": 0
      },
      "text/plain": [
       "HBox(children=(IntProgress(value=0, description='Scores', max=45306, style=ProgressStyle(description_width='in…"
      ]
     },
     "metadata": {},
     "output_type": "display_data"
    },
    {
     "name": "stdout",
     "output_type": "stream",
     "text": [
      "Epoch 1/10\n",
      "852/852 [==============================] - 269s 315ms/step - loss: 0.2058 - binary_crossentropy: 0.2058 - acc: 0.9218\n",
      "Epoch 2/10\n",
      "852/852 [==============================] - 259s 304ms/step - loss: 0.1700 - binary_crossentropy: 0.1700 - acc: 0.9311\n",
      "Epoch 3/10\n",
      "852/852 [==============================] - 260s 306ms/step - loss: 0.1628 - binary_crossentropy: 0.1628 - acc: 0.9345\n",
      "Epoch 4/10\n",
      "852/852 [==============================] - 262s 307ms/step - loss: 0.1574 - binary_crossentropy: 0.1574 - acc: 0.9376\n",
      "Epoch 5/10\n",
      "852/852 [==============================] - 263s 309ms/step - loss: 0.1507 - binary_crossentropy: 0.1507 - acc: 0.9399\n",
      "Epoch 6/10\n",
      "852/852 [==============================] - 260s 305ms/step - loss: 0.1489 - binary_crossentropy: 0.1489 - acc: 0.9393\n",
      "Epoch 7/10\n",
      "852/852 [==============================] - 262s 307ms/step - loss: 0.1407 - binary_crossentropy: 0.1407 - acc: 0.9433\n",
      "Epoch 8/10\n",
      "852/852 [==============================] - 260s 305ms/step - loss: 0.1368 - binary_crossentropy: 0.1368 - acc: 0.9453\n",
      "Epoch 9/10\n",
      "852/852 [==============================] - 261s 306ms/step - loss: 0.1316 - binary_crossentropy: 0.1316 - acc: 0.9486\n",
      "Epoch 10/10\n",
      "852/852 [==============================] - 261s 306ms/step - loss: 0.1314 - binary_crossentropy: 0.1314 - acc: 0.9476\n",
      "10 0.00064 0.0011393153\n",
      "noise ampl.  =  100.0\n"
     ]
    },
    {
     "data": {
      "application/vnd.jupyter.widget-view+json": {
       "model_id": "3799de2cb1ce4ca4a8bc863f1af88475",
       "version_major": 2,
       "version_minor": 0
      },
      "text/plain": [
       "HBox(children=(IntProgress(value=0, description='Features', max=213, style=ProgressStyle(description_width='in…"
      ]
     },
     "metadata": {},
     "output_type": "display_data"
    },
    {
     "data": {
      "application/vnd.jupyter.widget-view+json": {
       "model_id": "852c7e7aafc0483aafac7a47692999fc",
       "version_major": 2,
       "version_minor": 0
      },
      "text/plain": [
       "HBox(children=(IntProgress(value=0, description='Scores', max=45306, style=ProgressStyle(description_width='in…"
      ]
     },
     "metadata": {},
     "output_type": "display_data"
    },
    {
     "name": "stdout",
     "output_type": "stream",
     "text": [
      "Epoch 11/15\n",
      "852/852 [==============================] - 252s 295ms/step - loss: 0.3236 - binary_crossentropy: 0.3236 - acc: 0.8560\n",
      "Epoch 12/15\n",
      "852/852 [==============================] - 265s 311ms/step - loss: 0.2617 - binary_crossentropy: 0.2617 - acc: 0.8878\n",
      "Epoch 13/15\n",
      "852/852 [==============================] - 278s 326ms/step - loss: 0.2235 - binary_crossentropy: 0.2235 - acc: 0.9066\n",
      "Epoch 14/15\n",
      "852/852 [==============================] - 288s 338ms/step - loss: 0.1946 - binary_crossentropy: 0.1946 - acc: 0.9174\n",
      "Epoch 15/15\n",
      "852/852 [==============================] - 300s 353ms/step - loss: 0.1736 - binary_crossentropy: 0.1736 - acc: 0.9288\n",
      "15 0.00064 0.05303611\n",
      "noise ampl.  =  63.09573444801933\n"
     ]
    },
    {
     "data": {
      "application/vnd.jupyter.widget-view+json": {
       "model_id": "d7a08dea6af247adb67f55d57ef4bbbc",
       "version_major": 2,
       "version_minor": 0
      },
      "text/plain": [
       "HBox(children=(IntProgress(value=0, description='Features', max=213, style=ProgressStyle(description_width='in…"
      ]
     },
     "metadata": {},
     "output_type": "display_data"
    },
    {
     "data": {
      "application/vnd.jupyter.widget-view+json": {
       "model_id": "0471b8b7c0484940aa399056cecbb441",
       "version_major": 2,
       "version_minor": 0
      },
      "text/plain": [
       "HBox(children=(IntProgress(value=0, description='Scores', max=45306, style=ProgressStyle(description_width='in…"
      ]
     },
     "metadata": {},
     "output_type": "display_data"
    },
    {
     "name": "stdout",
     "output_type": "stream",
     "text": [
      "Epoch 16/20\n",
      "852/852 [==============================] - 261s 306ms/step - loss: 0.2675 - binary_crossentropy: 0.2675 - acc: 0.8855\n",
      "Epoch 17/20\n",
      "852/852 [==============================] - 289s 340ms/step - loss: 0.2180 - binary_crossentropy: 0.2180 - acc: 0.9086\n",
      "Epoch 18/20\n",
      "852/852 [==============================] - 307s 360ms/step - loss: 0.1845 - binary_crossentropy: 0.1845 - acc: 0.9227\n",
      "Epoch 19/20\n",
      "852/852 [==============================] - 323s 379ms/step - loss: 0.1642 - binary_crossentropy: 0.1642 - acc: 0.9329\n",
      "Epoch 20/20\n",
      "852/852 [==============================] - 340s 399ms/step - loss: 0.1472 - binary_crossentropy: 0.1472 - acc: 0.9387\n",
      "20 0.00064 0.03369921\n"
     ]
    },
    {
     "data": {
      "application/vnd.jupyter.widget-view+json": {
       "model_id": "16df86c18fcd45809f2cfcdebc493f85",
       "version_major": 2,
       "version_minor": 0
      },
      "text/plain": [
       "HBox(children=(IntProgress(value=0, description='Features', max=213, style=ProgressStyle(description_width='in…"
      ]
     },
     "metadata": {},
     "output_type": "display_data"
    },
    {
     "data": {
      "application/vnd.jupyter.widget-view+json": {
       "model_id": "8a111215e52440ae8aa9f45d95eb9641",
       "version_major": 2,
       "version_minor": 0
      },
      "text/plain": [
       "HBox(children=(IntProgress(value=0, description='Scores', max=45306, style=ProgressStyle(description_width='in…"
      ]
     },
     "metadata": {},
     "output_type": "display_data"
    },
    {
     "name": "stdout",
     "output_type": "stream",
     "text": [
      "Epoch 21/25\n",
      "852/852 [==============================] - 253s 296ms/step - loss: 0.3125 - binary_crossentropy: 0.3125 - acc: 0.8668\n",
      "Epoch 22/25\n",
      "852/852 [==============================] - 271s 319ms/step - loss: 0.2573 - binary_crossentropy: 0.2573 - acc: 0.8951\n",
      "Epoch 23/25\n",
      "852/852 [==============================] - 275s 323ms/step - loss: 0.2361 - binary_crossentropy: 0.2361 - acc: 0.9012\n",
      "Epoch 24/25\n",
      "852/852 [==============================] - 279s 328ms/step - loss: 0.2166 - binary_crossentropy: 0.2166 - acc: 0.9111\n",
      "Epoch 25/25\n",
      "852/852 [==============================] - 286s 336ms/step - loss: 0.2068 - binary_crossentropy: 0.2068 - acc: 0.9153\n",
      "25 0.00064 0.048293214\n"
     ]
    },
    {
     "data": {
      "application/vnd.jupyter.widget-view+json": {
       "model_id": "3bc2c26adea54ef5af6950ed8c4fa06c",
       "version_major": 2,
       "version_minor": 0
      },
      "text/plain": [
       "HBox(children=(IntProgress(value=0, description='Features', max=213, style=ProgressStyle(description_width='in…"
      ]
     },
     "metadata": {},
     "output_type": "display_data"
    },
    {
     "data": {
      "application/vnd.jupyter.widget-view+json": {
       "model_id": "530a4d4bae944f4880ef6aa644b78660",
       "version_major": 2,
       "version_minor": 0
      },
      "text/plain": [
       "HBox(children=(IntProgress(value=0, description='Scores', max=45306, style=ProgressStyle(description_width='in…"
      ]
     },
     "metadata": {},
     "output_type": "display_data"
    },
    {
     "name": "stdout",
     "output_type": "stream",
     "text": [
      "Epoch 26/30\n",
      "852/852 [==============================] - 256s 301ms/step - loss: 0.2623 - binary_crossentropy: 0.2623 - acc: 0.8931\n",
      "Epoch 27/30\n",
      "852/852 [==============================] - 271s 318ms/step - loss: 0.2195 - binary_crossentropy: 0.2195 - acc: 0.9097\n",
      "Epoch 28/30\n",
      "852/852 [==============================] - 272s 319ms/step - loss: 0.1951 - binary_crossentropy: 0.1951 - acc: 0.9240\n",
      "Epoch 29/30\n",
      "852/852 [==============================] - 278s 326ms/step - loss: 0.1814 - binary_crossentropy: 0.1814 - acc: 0.9287\n",
      "Epoch 30/30\n",
      "852/852 [==============================] - 284s 333ms/step - loss: 0.1743 - binary_crossentropy: 0.1743 - acc: 0.9305\n",
      "30 0.00064 0.03500886\n"
     ]
    },
    {
     "data": {
      "application/vnd.jupyter.widget-view+json": {
       "model_id": "66db75fdb32643c2a4d817070eec3dd8",
       "version_major": 2,
       "version_minor": 0
      },
      "text/plain": [
       "HBox(children=(IntProgress(value=0, description='Features', max=213, style=ProgressStyle(description_width='in…"
      ]
     },
     "metadata": {},
     "output_type": "display_data"
    },
    {
     "data": {
      "application/vnd.jupyter.widget-view+json": {
       "model_id": "d624c6b21731452da5c28c79e7593309",
       "version_major": 2,
       "version_minor": 0
      },
      "text/plain": [
       "HBox(children=(IntProgress(value=0, description='Scores', max=45306, style=ProgressStyle(description_width='in…"
      ]
     },
     "metadata": {},
     "output_type": "display_data"
    },
    {
     "name": "stdout",
     "output_type": "stream",
     "text": [
      "Epoch 31/35\n",
      "852/852 [==============================] - 255s 300ms/step - loss: 0.2758 - binary_crossentropy: 0.2758 - acc: 0.8853\n",
      "Epoch 32/35\n",
      "852/852 [==============================] - 355s 417ms/step - loss: 0.2258 - binary_crossentropy: 0.2258 - acc: 0.9095\n",
      "Epoch 33/35\n",
      "852/852 [==============================] - 391s 459ms/step - loss: 0.2006 - binary_crossentropy: 0.2006 - acc: 0.9179\n",
      "Epoch 34/35\n",
      "852/852 [==============================] - 429s 503ms/step - loss: 0.1857 - binary_crossentropy: 0.1857 - acc: 0.9258\n",
      "Epoch 35/35\n",
      "852/852 [==============================] - 461s 541ms/step - loss: 0.1784 - binary_crossentropy: 0.1784 - acc: 0.9287\n",
      "35 0.00064 0.01653033\n"
     ]
    },
    {
     "data": {
      "application/vnd.jupyter.widget-view+json": {
       "model_id": "36bbda68ff6d464f825c12d22ee7b291",
       "version_major": 2,
       "version_minor": 0
      },
      "text/plain": [
       "HBox(children=(IntProgress(value=0, description='Features', max=213, style=ProgressStyle(description_width='in…"
      ]
     },
     "metadata": {},
     "output_type": "display_data"
    },
    {
     "data": {
      "application/vnd.jupyter.widget-view+json": {
       "model_id": "437f3f8c63c849b8a7e11b32a009d8d8",
       "version_major": 2,
       "version_minor": 0
      },
      "text/plain": [
       "HBox(children=(IntProgress(value=0, description='Scores', max=45306, style=ProgressStyle(description_width='in…"
      ]
     },
     "metadata": {},
     "output_type": "display_data"
    },
    {
     "name": "stdout",
     "output_type": "stream",
     "text": [
      "Epoch 36/40\n",
      "852/852 [==============================] - 258s 303ms/step - loss: 0.2398 - binary_crossentropy: 0.2398 - acc: 0.9010\n",
      "Epoch 37/40\n",
      "852/852 [==============================] - 277s 325ms/step - loss: 0.1919 - binary_crossentropy: 0.1919 - acc: 0.9235\n",
      "Epoch 38/40\n",
      "852/852 [==============================] - 289s 339ms/step - loss: 0.1737 - binary_crossentropy: 0.1737 - acc: 0.9321\n",
      "Epoch 39/40\n",
      "852/852 [==============================] - 297s 349ms/step - loss: 0.1649 - binary_crossentropy: 0.1649 - acc: 0.9340\n",
      "Epoch 40/40\n",
      "852/852 [==============================] - 311s 365ms/step - loss: 0.1524 - binary_crossentropy: 0.1524 - acc: 0.9401\n",
      "40 0.00064 0.020912759\n"
     ]
    },
    {
     "data": {
      "application/vnd.jupyter.widget-view+json": {
       "model_id": "34120aa67cd64e27a8117f243d886ad9",
       "version_major": 2,
       "version_minor": 0
      },
      "text/plain": [
       "HBox(children=(IntProgress(value=0, description='Features', max=213, style=ProgressStyle(description_width='in…"
      ]
     },
     "metadata": {},
     "output_type": "display_data"
    },
    {
     "data": {
      "application/vnd.jupyter.widget-view+json": {
       "model_id": "43f81cbb1dd547f08285df752dee883e",
       "version_major": 2,
       "version_minor": 0
      },
      "text/plain": [
       "HBox(children=(IntProgress(value=0, description='Scores', max=45306, style=ProgressStyle(description_width='in…"
      ]
     },
     "metadata": {},
     "output_type": "display_data"
    },
    {
     "name": "stdout",
     "output_type": "stream",
     "text": [
      "Epoch 41/45\n",
      "852/852 [==============================] - 255s 299ms/step - loss: 0.2288 - binary_crossentropy: 0.2288 - acc: 0.9074\n",
      "Epoch 42/45\n",
      "852/852 [==============================] - 336s 395ms/step - loss: 0.1818 - binary_crossentropy: 0.1818 - acc: 0.9276\n",
      "Epoch 43/45\n",
      "852/852 [==============================] - 365s 429ms/step - loss: 0.1671 - binary_crossentropy: 0.1671 - acc: 0.9344\n",
      "Epoch 44/45\n",
      "852/852 [==============================] - 402s 472ms/step - loss: 0.1551 - binary_crossentropy: 0.1551 - acc: 0.9371\n",
      "Epoch 45/45\n",
      "852/852 [==============================] - 436s 512ms/step - loss: 0.1468 - binary_crossentropy: 0.1468 - acc: 0.9424\n",
      "45 0.00064 0.019286955\n"
     ]
    },
    {
     "data": {
      "application/vnd.jupyter.widget-view+json": {
       "model_id": "80efe9acd47c49e38a497103c0d88d5d",
       "version_major": 2,
       "version_minor": 0
      },
      "text/plain": [
       "HBox(children=(IntProgress(value=0, description='Features', max=213, style=ProgressStyle(description_width='in…"
      ]
     },
     "metadata": {},
     "output_type": "display_data"
    },
    {
     "data": {
      "application/vnd.jupyter.widget-view+json": {
       "model_id": "e57bc5a273f141a78a1acb3240ab7b56",
       "version_major": 2,
       "version_minor": 0
      },
      "text/plain": [
       "HBox(children=(IntProgress(value=0, description='Scores', max=45306, style=ProgressStyle(description_width='in…"
      ]
     },
     "metadata": {},
     "output_type": "display_data"
    },
    {
     "name": "stdout",
     "output_type": "stream",
     "text": [
      "Epoch 46/50\n",
      "852/852 [==============================] - 253s 297ms/step - loss: 0.2190 - binary_crossentropy: 0.2190 - acc: 0.9094\n",
      "Epoch 47/50\n",
      "852/852 [==============================] - 341s 401ms/step - loss: 0.1747 - binary_crossentropy: 0.1747 - acc: 0.9317\n",
      "Epoch 48/50\n",
      "852/852 [==============================] - 378s 443ms/step - loss: 0.1582 - binary_crossentropy: 0.1582 - acc: 0.9376\n",
      "Epoch 49/50\n",
      "852/852 [==============================] - 411s 483ms/step - loss: 0.1456 - binary_crossentropy: 0.1456 - acc: 0.9442\n",
      "Epoch 50/50\n",
      "852/852 [==============================] - 451s 529ms/step - loss: 0.1358 - binary_crossentropy: 0.1358 - acc: 0.9457\n",
      "50 0.00064 0.013960781\n"
     ]
    },
    {
     "data": {
      "application/vnd.jupyter.widget-view+json": {
       "model_id": "8f65f27dffd04f92ad77428a17c6a32d",
       "version_major": 2,
       "version_minor": 0
      },
      "text/plain": [
       "HBox(children=(IntProgress(value=0, description='Features', max=213, style=ProgressStyle(description_width='in…"
      ]
     },
     "metadata": {},
     "output_type": "display_data"
    },
    {
     "data": {
      "application/vnd.jupyter.widget-view+json": {
       "model_id": "8c9299bbc4284fb691b34d8b81d7f2e2",
       "version_major": 2,
       "version_minor": 0
      },
      "text/plain": [
       "HBox(children=(IntProgress(value=0, description='Scores', max=45306, style=ProgressStyle(description_width='in…"
      ]
     },
     "metadata": {},
     "output_type": "display_data"
    },
    {
     "name": "stdout",
     "output_type": "stream",
     "text": [
      "Epoch 51/55\n",
      "852/852 [==============================] - 254s 298ms/step - loss: 0.2127 - binary_crossentropy: 0.2127 - acc: 0.9150\n",
      "Epoch 52/55\n",
      "852/852 [==============================] - 410s 481ms/step - loss: 0.1686 - binary_crossentropy: 0.1686 - acc: 0.9320\n",
      "Epoch 53/55\n",
      "852/852 [==============================] - 470s 552ms/step - loss: 0.1499 - binary_crossentropy: 0.1499 - acc: 0.9402\n",
      "Epoch 54/55\n",
      "852/852 [==============================] - 523s 614ms/step - loss: 0.1368 - binary_crossentropy: 0.1368 - acc: 0.9454\n",
      "Epoch 55/55\n",
      "852/852 [==============================] - 569s 668ms/step - loss: 0.1313 - binary_crossentropy: 0.1313 - acc: 0.9465\n",
      "55 0.00064 0.00888736\n"
     ]
    },
    {
     "data": {
      "application/vnd.jupyter.widget-view+json": {
       "model_id": "44bd94a32c424c28bd6426836a9ee22f",
       "version_major": 2,
       "version_minor": 0
      },
      "text/plain": [
       "HBox(children=(IntProgress(value=0, description='Features', max=213, style=ProgressStyle(description_width='in…"
      ]
     },
     "metadata": {},
     "output_type": "display_data"
    },
    {
     "data": {
      "application/vnd.jupyter.widget-view+json": {
       "model_id": "3ca178336bea40199c1b5a22ebb57fcf",
       "version_major": 2,
       "version_minor": 0
      },
      "text/plain": [
       "HBox(children=(IntProgress(value=0, description='Scores', max=45306, style=ProgressStyle(description_width='in…"
      ]
     },
     "metadata": {},
     "output_type": "display_data"
    },
    {
     "name": "stdout",
     "output_type": "stream",
     "text": [
      "Epoch 56/60\n",
      "852/852 [==============================] - 252s 296ms/step - loss: 0.1974 - binary_crossentropy: 0.1974 - acc: 0.9200\n",
      "Epoch 57/60\n",
      "852/852 [==============================] - 407s 478ms/step - loss: 0.1501 - binary_crossentropy: 0.1501 - acc: 0.9405\n",
      "Epoch 58/60\n",
      "852/852 [==============================] - 471s 553ms/step - loss: 0.1372 - binary_crossentropy: 0.1372 - acc: 0.9469\n",
      "Epoch 59/60\n",
      "852/852 [==============================] - 531s 623ms/step - loss: 0.1274 - binary_crossentropy: 0.1274 - acc: 0.9504\n",
      "Epoch 60/60\n",
      "852/852 [==============================] - 598s 702ms/step - loss: 0.1156 - binary_crossentropy: 0.1156 - acc: 0.9558\n",
      "60 0.00064 0.010786513\n"
     ]
    },
    {
     "data": {
      "application/vnd.jupyter.widget-view+json": {
       "model_id": "7f116b9cc82e48f298e43dd36f512efa",
       "version_major": 2,
       "version_minor": 0
      },
      "text/plain": [
       "HBox(children=(IntProgress(value=0, description='Features', max=213, style=ProgressStyle(description_width='in…"
      ]
     },
     "metadata": {},
     "output_type": "display_data"
    },
    {
     "data": {
      "application/vnd.jupyter.widget-view+json": {
       "model_id": "43ad1621577849179ea6ae73099f4951",
       "version_major": 2,
       "version_minor": 0
      },
      "text/plain": [
       "HBox(children=(IntProgress(value=0, description='Scores', max=45306, style=ProgressStyle(description_width='in…"
      ]
     },
     "metadata": {},
     "output_type": "display_data"
    },
    {
     "name": "stdout",
     "output_type": "stream",
     "text": [
      "Epoch 61/65\n",
      "852/852 [==============================] - 253s 297ms/step - loss: 0.1980 - binary_crossentropy: 0.1980 - acc: 0.9210\n",
      "Epoch 62/65\n",
      "852/852 [==============================] - 510s 598ms/step - loss: 0.1569 - binary_crossentropy: 0.1569 - acc: 0.9383\n",
      "Epoch 63/65\n",
      "852/852 [==============================] - 584s 685ms/step - loss: 0.1368 - binary_crossentropy: 0.1368 - acc: 0.9475\n",
      "Epoch 64/65\n",
      "852/852 [==============================] - 668s 785ms/step - loss: 0.1254 - binary_crossentropy: 0.1254 - acc: 0.9515\n",
      "Epoch 65/65\n",
      "852/852 [==============================] - 737s 865ms/step - loss: 0.1133 - binary_crossentropy: 0.1133 - acc: 0.9559\n",
      "65 0.00064 0.007778295\n"
     ]
    },
    {
     "data": {
      "application/vnd.jupyter.widget-view+json": {
       "model_id": "def92f1f842143ce894cf27fc7c568ce",
       "version_major": 2,
       "version_minor": 0
      },
      "text/plain": [
       "HBox(children=(IntProgress(value=0, description='Features', max=213, style=ProgressStyle(description_width='in…"
      ]
     },
     "metadata": {},
     "output_type": "display_data"
    },
    {
     "data": {
      "application/vnd.jupyter.widget-view+json": {
       "model_id": "f896942cc0ce4b5783efcc10787709e1",
       "version_major": 2,
       "version_minor": 0
      },
      "text/plain": [
       "HBox(children=(IntProgress(value=0, description='Scores', max=45306, style=ProgressStyle(description_width='in…"
      ]
     },
     "metadata": {},
     "output_type": "display_data"
    },
    {
     "name": "stdout",
     "output_type": "stream",
     "text": [
      "Epoch 66/70\n",
      "852/852 [==============================] - 253s 297ms/step - loss: 0.1850 - binary_crossentropy: 0.1850 - acc: 0.9242\n",
      "Epoch 67/70\n",
      "852/852 [==============================] - 394s 463ms/step - loss: 0.1476 - binary_crossentropy: 0.1476 - acc: 0.9429\n",
      "Epoch 68/70\n",
      "852/852 [==============================] - 462s 542ms/step - loss: 0.1354 - binary_crossentropy: 0.1354 - acc: 0.9480\n",
      "Epoch 69/70\n",
      "852/852 [==============================] - 517s 607ms/step - loss: 0.1214 - binary_crossentropy: 0.1214 - acc: 0.9538\n",
      "Epoch 70/70\n",
      "852/852 [==============================] - 582s 683ms/step - loss: 0.1103 - binary_crossentropy: 0.1103 - acc: 0.9565\n",
      "70 0.00064 0.007909856\n"
     ]
    },
    {
     "data": {
      "application/vnd.jupyter.widget-view+json": {
       "model_id": "32414abe34784908a6bacc0620df27e4",
       "version_major": 2,
       "version_minor": 0
      },
      "text/plain": [
       "HBox(children=(IntProgress(value=0, description='Features', max=213, style=ProgressStyle(description_width='in…"
      ]
     },
     "metadata": {},
     "output_type": "display_data"
    },
    {
     "data": {
      "application/vnd.jupyter.widget-view+json": {
       "model_id": "a7b7ea8a75e143618269bac2fa8be414",
       "version_major": 2,
       "version_minor": 0
      },
      "text/plain": [
       "HBox(children=(IntProgress(value=0, description='Scores', max=45306, style=ProgressStyle(description_width='in…"
      ]
     },
     "metadata": {},
     "output_type": "display_data"
    },
    {
     "name": "stdout",
     "output_type": "stream",
     "text": [
      "Epoch 71/75\n",
      "852/852 [==============================] - 253s 297ms/step - loss: 0.1697 - binary_crossentropy: 0.1697 - acc: 0.9321\n",
      "Epoch 72/75\n",
      "852/852 [==============================] - 658s 772ms/step - loss: 0.1373 - binary_crossentropy: 0.1373 - acc: 0.9457\n",
      "Epoch 73/75\n",
      "852/852 [==============================] - 759s 891ms/step - loss: 0.1183 - binary_crossentropy: 0.1183 - acc: 0.9538\n",
      "Epoch 74/75\n",
      "852/852 [==============================] - 841s 987ms/step - loss: 0.1037 - binary_crossentropy: 0.1037 - acc: 0.9601\n",
      "Epoch 75/75\n",
      "852/852 [==============================] - 904s 1s/step - loss: 0.0942 - binary_crossentropy: 0.0942 - acc: 0.9633\n",
      "75 0.00064 0.0048896302\n"
     ]
    },
    {
     "data": {
      "application/vnd.jupyter.widget-view+json": {
       "model_id": "8d752dc66ec3484b979175c0a07c5c16",
       "version_major": 2,
       "version_minor": 0
      },
      "text/plain": [
       "HBox(children=(IntProgress(value=0, description='Features', max=213, style=ProgressStyle(description_width='in…"
      ]
     },
     "metadata": {},
     "output_type": "display_data"
    },
    {
     "data": {
      "application/vnd.jupyter.widget-view+json": {
       "model_id": "1b8500edca544f31bd4b06ba9b60dbad",
       "version_major": 2,
       "version_minor": 0
      },
      "text/plain": [
       "HBox(children=(IntProgress(value=0, description='Scores', max=45306, style=ProgressStyle(description_width='in…"
      ]
     },
     "metadata": {},
     "output_type": "display_data"
    },
    {
     "name": "stdout",
     "output_type": "stream",
     "text": [
      "Epoch 76/80\n",
      "852/852 [==============================] - 254s 298ms/step - loss: 0.1786 - binary_crossentropy: 0.1786 - acc: 0.9273\n",
      "Epoch 77/80\n",
      "852/852 [==============================] - 567s 666ms/step - loss: 0.1269 - binary_crossentropy: 0.1269 - acc: 0.9495\n",
      "Epoch 78/80\n",
      "852/852 [==============================] - 673s 790ms/step - loss: 0.1204 - binary_crossentropy: 0.1204 - acc: 0.9526\n",
      "Epoch 79/80\n",
      "852/852 [==============================] - 762s 894ms/step - loss: 0.1075 - binary_crossentropy: 0.1075 - acc: 0.9575\n",
      "Epoch 80/80\n",
      "852/852 [==============================] - 840s 986ms/step - loss: 0.0986 - binary_crossentropy: 0.0986 - acc: 0.9633\n",
      "80 0.00064 0.004317523\n"
     ]
    },
    {
     "data": {
      "application/vnd.jupyter.widget-view+json": {
       "model_id": "ecf15db1ef2844078548c84c07e9d6a3",
       "version_major": 2,
       "version_minor": 0
      },
      "text/plain": [
       "HBox(children=(IntProgress(value=0, description='Features', max=213, style=ProgressStyle(description_width='in…"
      ]
     },
     "metadata": {},
     "output_type": "display_data"
    },
    {
     "data": {
      "application/vnd.jupyter.widget-view+json": {
       "model_id": "a0c093fd16a341fc8facb4081de1d5ae",
       "version_major": 2,
       "version_minor": 0
      },
      "text/plain": [
       "HBox(children=(IntProgress(value=0, description='Scores', max=45306, style=ProgressStyle(description_width='in…"
      ]
     },
     "metadata": {},
     "output_type": "display_data"
    },
    {
     "name": "stdout",
     "output_type": "stream",
     "text": [
      "Epoch 81/85\n",
      "852/852 [==============================] - 253s 297ms/step - loss: 0.1566 - binary_crossentropy: 0.1566 - acc: 0.9374\n",
      "Epoch 82/85\n",
      "852/852 [==============================] - 614s 721ms/step - loss: 0.1263 - binary_crossentropy: 0.1263 - acc: 0.9508\n",
      "Epoch 83/85\n",
      "852/852 [==============================] - 709s 832ms/step - loss: 0.1046 - binary_crossentropy: 0.1046 - acc: 0.9593\n",
      "Epoch 84/85\n",
      "852/852 [==============================] - 808s 948ms/step - loss: 0.1015 - binary_crossentropy: 0.1015 - acc: 0.9607\n",
      "Epoch 85/85\n",
      "852/852 [==============================] - 888s 1s/step - loss: 0.0883 - binary_crossentropy: 0.0883 - acc: 0.9647\n",
      "85 0.00064 0.006175678\n"
     ]
    },
    {
     "data": {
      "application/vnd.jupyter.widget-view+json": {
       "model_id": "d3b26c8db35c495fbcbf0d5b62923aec",
       "version_major": 2,
       "version_minor": 0
      },
      "text/plain": [
       "HBox(children=(IntProgress(value=0, description='Features', max=213, style=ProgressStyle(description_width='in…"
      ]
     },
     "metadata": {},
     "output_type": "display_data"
    },
    {
     "data": {
      "application/vnd.jupyter.widget-view+json": {
       "model_id": "f0402f255ae04b39a08f2e86069334db",
       "version_major": 2,
       "version_minor": 0
      },
      "text/plain": [
       "HBox(children=(IntProgress(value=0, description='Scores', max=45306, style=ProgressStyle(description_width='in…"
      ]
     },
     "metadata": {},
     "output_type": "display_data"
    },
    {
     "name": "stdout",
     "output_type": "stream",
     "text": [
      "Epoch 86/90\n",
      "852/852 [==============================] - 254s 298ms/step - loss: 0.1531 - binary_crossentropy: 0.1531 - acc: 0.9386\n",
      "Epoch 87/90\n",
      "852/852 [==============================] - 803s 942ms/step - loss: 0.1143 - binary_crossentropy: 0.1143 - acc: 0.9559\n",
      "Epoch 88/90\n",
      "852/852 [==============================] - 916s 1s/step - loss: 0.1043 - binary_crossentropy: 0.1043 - acc: 0.9581\n",
      "Epoch 89/90\n",
      "852/852 [==============================] - 1023s 1s/step - loss: 0.0924 - binary_crossentropy: 0.0924 - acc: 0.9637\n",
      "Epoch 90/90\n",
      "852/852 [==============================] - 1085s 1s/step - loss: 0.0836 - binary_crossentropy: 0.0836 - acc: 0.9681\n",
      "90 0.00064 0.0042311456\n"
     ]
    },
    {
     "data": {
      "application/vnd.jupyter.widget-view+json": {
       "model_id": "a93bcd6199af468caae65e79713264cb",
       "version_major": 2,
       "version_minor": 0
      },
      "text/plain": [
       "HBox(children=(IntProgress(value=0, description='Features', max=213, style=ProgressStyle(description_width='in…"
      ]
     },
     "metadata": {},
     "output_type": "display_data"
    },
    {
     "data": {
      "application/vnd.jupyter.widget-view+json": {
       "model_id": "616b9ebf2b264be8998534d800660b73",
       "version_major": 2,
       "version_minor": 0
      },
      "text/plain": [
       "HBox(children=(IntProgress(value=0, description='Scores', max=45306, style=ProgressStyle(description_width='in…"
      ]
     },
     "metadata": {},
     "output_type": "display_data"
    },
    {
     "name": "stdout",
     "output_type": "stream",
     "text": [
      "Epoch 91/95\n",
      "852/852 [==============================] - 252s 296ms/step - loss: 0.1486 - binary_crossentropy: 0.1486 - acc: 0.9415\n",
      "Epoch 92/95\n",
      "852/852 [==============================] - 573s 673ms/step - loss: 0.1118 - binary_crossentropy: 0.1118 - acc: 0.9555\n",
      "Epoch 93/95\n",
      "852/852 [==============================] - 672s 789ms/step - loss: 0.0989 - binary_crossentropy: 0.0989 - acc: 0.9622\n",
      "Epoch 94/95\n",
      "852/852 [==============================] - 781s 917ms/step - loss: 0.0913 - binary_crossentropy: 0.0913 - acc: 0.9650\n",
      "Epoch 95/95\n",
      "852/852 [==============================] - 842s 988ms/step - loss: 0.0853 - binary_crossentropy: 0.0853 - acc: 0.9671\n",
      "95 0.00064 0.0051148282\n"
     ]
    },
    {
     "data": {
      "application/vnd.jupyter.widget-view+json": {
       "model_id": "1e9c90b987604d9aaf9d07a73409664c",
       "version_major": 2,
       "version_minor": 0
      },
      "text/plain": [
       "HBox(children=(IntProgress(value=0, description='Features', max=213, style=ProgressStyle(description_width='in…"
      ]
     },
     "metadata": {},
     "output_type": "display_data"
    },
    {
     "data": {
      "application/vnd.jupyter.widget-view+json": {
       "model_id": "d06324711bb44597bc7125cd4d977b20",
       "version_major": 2,
       "version_minor": 0
      },
      "text/plain": [
       "HBox(children=(IntProgress(value=0, description='Scores', max=45306, style=ProgressStyle(description_width='in…"
      ]
     },
     "metadata": {},
     "output_type": "display_data"
    },
    {
     "name": "stdout",
     "output_type": "stream",
     "text": [
      "Epoch 96/100\n",
      "852/852 [==============================] - 254s 298ms/step - loss: 0.1407 - binary_crossentropy: 0.1407 - acc: 0.9454\n",
      "Epoch 97/100\n",
      "852/852 [==============================] - 840s 986ms/step - loss: 0.1093 - binary_crossentropy: 0.1093 - acc: 0.9577\n",
      "Epoch 98/100\n",
      "852/852 [==============================] - 947s 1s/step - loss: 0.0902 - binary_crossentropy: 0.0902 - acc: 0.9643\n",
      "Epoch 99/100\n",
      "852/852 [==============================] - 1035s 1s/step - loss: 0.0816 - binary_crossentropy: 0.0816 - acc: 0.9681\n",
      "Epoch 100/100\n",
      "852/852 [==============================] - 1105s 1s/step - loss: 0.0742 - binary_crossentropy: 0.0742 - acc: 0.9715\n",
      "100 0.00064 0.0031237083\n"
     ]
    },
    {
     "data": {
      "application/vnd.jupyter.widget-view+json": {
       "model_id": "231b431f418c47af91a0d4246c3906bb",
       "version_major": 2,
       "version_minor": 0
      },
      "text/plain": [
       "HBox(children=(IntProgress(value=0, description='Features', max=213, style=ProgressStyle(description_width='in…"
      ]
     },
     "metadata": {},
     "output_type": "display_data"
    },
    {
     "data": {
      "application/vnd.jupyter.widget-view+json": {
       "model_id": "000a3eaca8b6450b8e6eea2b47b2bd00",
       "version_major": 2,
       "version_minor": 0
      },
      "text/plain": [
       "HBox(children=(IntProgress(value=0, description='Scores', max=45306, style=ProgressStyle(description_width='in…"
      ]
     },
     "metadata": {},
     "output_type": "display_data"
    },
    {
     "name": "stdout",
     "output_type": "stream",
     "text": [
      "Epoch 101/105\n",
      "852/852 [==============================] - 255s 300ms/step - loss: 0.1332 - binary_crossentropy: 0.1332 - acc: 0.9479\n",
      "Epoch 102/105\n",
      "852/852 [==============================] - 633s 743ms/step - loss: 0.0996 - binary_crossentropy: 0.0996 - acc: 0.9611\n",
      "Epoch 103/105\n",
      "852/852 [==============================] - 733s 861ms/step - loss: 0.0907 - binary_crossentropy: 0.0907 - acc: 0.9652\n",
      "Epoch 104/105\n",
      "852/852 [==============================] - 832s 976ms/step - loss: 0.0767 - binary_crossentropy: 0.0767 - acc: 0.9709\n",
      "Epoch 105/105\n",
      "852/852 [==============================] - 901s 1s/step - loss: 0.0762 - binary_crossentropy: 0.0762 - acc: 0.9705\n",
      "105 0.00064 0.0032048714\n"
     ]
    },
    {
     "data": {
      "application/vnd.jupyter.widget-view+json": {
       "model_id": "fb57472abf444906b27f1087145a98f9",
       "version_major": 2,
       "version_minor": 0
      },
      "text/plain": [
       "HBox(children=(IntProgress(value=0, description='Features', max=213, style=ProgressStyle(description_width='in…"
      ]
     },
     "metadata": {},
     "output_type": "display_data"
    },
    {
     "data": {
      "application/vnd.jupyter.widget-view+json": {
       "model_id": "347bd0a8cb844a278dd19c8f4dbc213f",
       "version_major": 2,
       "version_minor": 0
      },
      "text/plain": [
       "HBox(children=(IntProgress(value=0, description='Scores', max=45306, style=ProgressStyle(description_width='in…"
      ]
     },
     "metadata": {},
     "output_type": "display_data"
    },
    {
     "name": "stdout",
     "output_type": "stream",
     "text": [
      "Epoch 106/110\n",
      "852/852 [==============================] - 253s 297ms/step - loss: 0.1293 - binary_crossentropy: 0.1293 - acc: 0.9482\n",
      "Epoch 107/110\n",
      "852/852 [==============================] - 797s 935ms/step - loss: 0.1009 - binary_crossentropy: 0.1009 - acc: 0.9596\n",
      "Epoch 108/110\n",
      "852/852 [==============================] - 923s 1s/step - loss: 0.0806 - binary_crossentropy: 0.0806 - acc: 0.9694\n",
      "Epoch 109/110\n",
      "852/852 [==============================] - 1014s 1s/step - loss: 0.0777 - binary_crossentropy: 0.0777 - acc: 0.9695\n",
      "Epoch 110/110\n",
      "852/852 [==============================] - 1081s 1s/step - loss: 0.0715 - binary_crossentropy: 0.0715 - acc: 0.9723\n",
      "110 0.00064 0.0028143818\n"
     ]
    }
   ],
   "source": [
    "histories = []\n",
    "steps = 0\n",
    "\n",
    "if isfile('../Data/mpiotte-standard.model'):\n",
    "    tmp = keras.models.load_model('../Data/mpiotte-standard.model')\n",
    "    model.set_weights(tmp.get_weights())\n",
    "# else:\n",
    "    # epoch -> 10\n",
    "    make_steps(10, 1000)\n",
    "    ampl = 100.0\n",
    "    for _ in range(2):\n",
    "        print('noise ampl.  = ', ampl)\n",
    "        make_steps(5, ampl)\n",
    "        ampl = max(1.0, 100 ** -0.1 * ampl)\n",
    "    # epoch -> 150\n",
    "    for _ in range(18): make_steps(5, 1.0)\n",
    "#     # epoch -> 200\n",
    "#     set_lr(model, 16e-5)\n",
    "#     for _ in range(10): make_steps(5, 0.5)\n",
    "#     # epoch -> 240\n",
    "#     set_lr(model, 4e-5)\n",
    "#     for _ in range(8): make_steps(5, 0.25)\n",
    "#     # epoch -> 250\n",
    "#     set_lr(model, 1e-5)\n",
    "#     for _ in range(2): make_steps(5, 0.25)\n",
    "#     # epoch -> 300\n",
    "#     weights = model.get_weights()\n",
    "#     model, branch_model, head_model = build_model(64e-5, 0.0002)\n",
    "#     model.set_weights(weights)\n",
    "#     for _ in range(10): make_steps(5, 1.0)\n",
    "#     # epoch -> 350\n",
    "#     set_lr(model, 16e-5)\n",
    "#     for _ in range(10): make_steps(5, 0.5)\n",
    "#     # epoch -> 390\n",
    "#     set_lr(model, 4e-5)\n",
    "#     for _ in range(8): make_steps(5, 0.25)\n",
    "#     # epoch -> 400\n",
    "#     set_lr(model, 1e-5)\n",
    "#     for _ in range(2): make_steps(5, 0.25)\n",
    "    model.save('standard.model')"
   ]
  },
  {
   "cell_type": "code",
   "execution_count": 30,
   "metadata": {},
   "outputs": [
    {
     "name": "stdout",
     "output_type": "stream",
     "text": [
      "__________________________________________________________________________________________________\n",
      "Layer (type)                    Output Shape         Param #     Connected to                     \n",
      "==================================================================================================\n",
      "input_4 (InputLayer)            (None, 384, 384, 1)  0                                            \n",
      "__________________________________________________________________________________________________\n",
      "input_5 (InputLayer)            (None, 384, 384, 1)  0                                            \n",
      "__________________________________________________________________________________________________\n",
      "model_1 (Model)                 (None, 512)          2692096     input_4[0][0]                    \n",
      "                                                                 input_5[0][0]                    \n",
      "__________________________________________________________________________________________________\n",
      "head (Model)                    (None, 1)            706         model_1[1][0]                    \n",
      "                                                                 model_1[2][0]                    \n",
      "==================================================================================================\n",
      "Total params: 2,692,802\n",
      "Trainable params: 2,675,010\n",
      "Non-trainable params: 17,792\n",
      "__________________________________________________________________________________________________\n"
     ]
    }
   ],
   "source": [
    "model.summary()"
   ]
  },
  {
   "cell_type": "code",
   "execution_count": 31,
   "metadata": {},
   "outputs": [],
   "source": [
    "def prepare_submission(threshold, filename):\n",
    "    \"\"\"\n",
    "    Generate a Kaggle submission file.\n",
    "    @param threshold the score given to 'new_whale'\n",
    "    @param filename the submission file name\n",
    "    \"\"\"\n",
    "    vtop = 0\n",
    "    vhigh = 0\n",
    "    pos = [0, 0, 0, 0, 0, 0]\n",
    "    with open(filename, 'wt', newline='\\n') as f:\n",
    "        f.write('Image,Id\\n')\n",
    "        for i, p in enumerate(tqdm(submit)):\n",
    "            t = []\n",
    "            s = set()\n",
    "            a = score[i, :]\n",
    "            for j in list(reversed(np.argsort(a))):\n",
    "                h = known[j]\n",
    "                if a[j] < threshold and new_whale not in s:\n",
    "                    pos[len(t)] += 1\n",
    "                    s.add(new_whale)\n",
    "                    t.append(new_whale)\n",
    "                    if len(t) == 5: break;\n",
    "                for w in h2ws[h]:\n",
    "                    assert w != new_whale\n",
    "                    if w not in s:\n",
    "                        if a[j] > 1.0:\n",
    "                            vtop += 1\n",
    "                        elif a[j] >= threshold:\n",
    "                            vhigh += 1\n",
    "                        s.add(w)\n",
    "                        t.append(w)\n",
    "                        if len(t) == 5: break;\n",
    "                if len(t) == 5: break;\n",
    "            if new_whale not in s: pos[5] += 1\n",
    "            assert len(t) == 5 and len(s) == 5\n",
    "            f.write(p + ',' + ' '.join(t[:5]) + '\\n')\n",
    "    return vtop, vhigh, pos"
   ]
  },
  {
   "cell_type": "code",
   "execution_count": 32,
   "metadata": {},
   "outputs": [
    {
     "data": {
      "application/vnd.jupyter.widget-view+json": {
       "model_id": "e8fc2437663549fa9091037c5c659416",
       "version_major": 2,
       "version_minor": 0
      },
      "text/plain": [
       "HBox(children=(IntProgress(value=0, description='Features', max=246, style=ProgressStyle(description_width='in…"
      ]
     },
     "metadata": {},
     "output_type": "display_data"
    },
    {
     "data": {
      "application/vnd.jupyter.widget-view+json": {
       "model_id": "298548340f4141baa12ef1bc59afc06f",
       "version_major": 2,
       "version_minor": 0
      },
      "text/plain": [
       "HBox(children=(IntProgress(value=0, description='Features', max=125, style=ProgressStyle(description_width='in…"
      ]
     },
     "metadata": {},
     "output_type": "display_data"
    },
    {
     "data": {
      "application/vnd.jupyter.widget-view+json": {
       "model_id": "77dc35d5cc904177900d6e2d70c07f15",
       "version_major": 2,
       "version_minor": 0
      },
      "text/plain": [
       "HBox(children=(IntProgress(value=0, description='Scores', max=61006, style=ProgressStyle(description_width='in…"
      ]
     },
     "metadata": {},
     "output_type": "display_data"
    },
    {
     "data": {
      "application/vnd.jupyter.widget-view+json": {
       "model_id": "108d10ee204f48e493fdbe59e434b219",
       "version_major": 2,
       "version_minor": 0
      },
      "text/plain": [
       "HBox(children=(IntProgress(value=0, max=7960), HTML(value='')))"
      ]
     },
     "metadata": {},
     "output_type": "display_data"
    },
    {
     "name": "stdout",
     "output_type": "stream",
     "text": [
      "Submission time:  13.97928919394811\n"
     ]
    }
   ],
   "source": [
    "# Find elements from training sets not 'new_whale'\n",
    "tic = time.time()\n",
    "h2ws = {}\n",
    "for p, w in tagged.items():\n",
    "    if w != new_whale:  # Use only identified whales\n",
    "        h = p2h[p]\n",
    "        if h not in h2ws: h2ws[h] = []\n",
    "        if w not in h2ws[h]: h2ws[h].append(w)\n",
    "known = sorted(list(h2ws.keys()))\n",
    "\n",
    "# Dictionary of picture indices\n",
    "h2i = {}\n",
    "for i, h in enumerate(known): h2i[h] = i\n",
    "\n",
    "# Evaluate the model.\n",
    "fknown = branch_model.predict_generator(FeatureGen(known), max_queue_size=20, workers=10, verbose=0)\n",
    "fsubmit = branch_model.predict_generator(FeatureGen(submit), max_queue_size=20, workers=10, verbose=0)\n",
    "score = head_model.predict_generator(ScoreGen(fknown, fsubmit), max_queue_size=20, workers=10, verbose=0)\n",
    "score = score_reshape(score, fknown, fsubmit)\n",
    "\n",
    "# Generate the subsmission file.\n",
    "prepare_submission(0.99, 'submission.csv')\n",
    "toc = time.time()\n",
    "print(\"Submission time: \", (toc - tic) / 60.)"
   ]
  },
  {
   "cell_type": "code",
   "execution_count": null,
   "metadata": {},
   "outputs": [],
   "source": []
  }
 ],
 "metadata": {
  "kernelspec": {
   "display_name": "tensorflow",
   "language": "python",
   "name": "tensorflow"
  },
  "language_info": {
   "codemirror_mode": {
    "name": "ipython",
    "version": 3
   },
   "file_extension": ".py",
   "mimetype": "text/x-python",
   "name": "python",
   "nbconvert_exporter": "python",
   "pygments_lexer": "ipython3",
   "version": "3.6.4"
  }
 },
 "nbformat": 4,
 "nbformat_minor": 2
}
